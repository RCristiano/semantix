{
 "cells": [
  {
   "cell_type": "code",
   "execution_count": 1,
   "metadata": {},
   "outputs": [],
   "source": [
    "from pyspark.sql import SparkSession\n",
    "import pyspark.sql.functions as f\n",
    "\n",
    "spark = SparkSession.builder.appName(\"Process File\")\\\n",
    "    .getOrCreate()"
   ]
  },
  {
   "cell_type": "code",
   "execution_count": 2,
   "metadata": {},
   "outputs": [],
   "source": [
    "df_aug = spark.read\\\n",
    "    .format(\"com.databricks.spark.csv\")\\\n",
    "    .option(\"header\", \"false\") \\\n",
    "    .option(\"delimiter\", \" \") \\\n",
    "    .option(\"inferSchema\", \"true\") \\\n",
    "    .load(\"access_log_Aug95\")"
   ]
  },
  {
   "cell_type": "code",
   "execution_count": 3,
   "metadata": {},
   "outputs": [],
   "source": [
    "df_jul = spark.read\\\n",
    "    .format(\"com.databricks.spark.csv\")\\\n",
    "    .option(\"header\", \"false\") \\\n",
    "    .option(\"delimiter\", \" \") \\\n",
    "    .option(\"inferSchema\", \"true\") \\\n",
    "    .load(\"access_log_Jul95\")"
   ]
  },
  {
   "cell_type": "code",
   "execution_count": 4,
   "metadata": {},
   "outputs": [],
   "source": [
    "df = df_aug.union(df_jul)"
   ]
  },
  {
   "cell_type": "code",
   "execution_count": 5,
   "metadata": {},
   "outputs": [],
   "source": [
    "df = df.select(df._c0.alias(\"host\"), \\\n",
    "                  f.translate(f.concat(df._c3, f.lit(\" \"), df._c4), \"$#,[]-\", \"XYZ\").alias(\"Timestamp\"), \\\n",
    "                  f.concat(f.lit('\"'), df._c5, f.lit('\"')).alias(\"request\"), \\\n",
    "                  df._c6.alias(\"cod retorno http\"), \\\n",
    "                  df._c7.alias(\"Total bytes retornados\"))"
   ]
  },
  {
   "cell_type": "code",
   "execution_count": 6,
   "metadata": {},
   "outputs": [
    {
     "name": "stdout",
     "output_type": "stream",
     "text": [
      "+--------------------+--------------------+--------------------+----------------+----------------------+\n",
      "|                host|           Timestamp|             request|cod retorno http|Total bytes retornados|\n",
      "+--------------------+--------------------+--------------------+----------------+----------------------+\n",
      "|   in24.inetnebr.com|01/Aug/1995:00:00...|\"GET /shuttle/mis...|             200|                  1839|\n",
      "|     uplherc.upl.com|01/Aug/1995:00:00...|    \"GET / HTTP/1.0\"|             304|                     0|\n",
      "|     uplherc.upl.com|01/Aug/1995:00:00...|\"GET /images/kscl...|             304|                     0|\n",
      "|     uplherc.upl.com|01/Aug/1995:00:00...|\"GET /images/MOSA...|             304|                     0|\n",
      "|     uplherc.upl.com|01/Aug/1995:00:00...|\"GET /images/USA-...|             304|                     0|\n",
      "|ix-esc-ca2-07.ix....|01/Aug/1995:00:00...|\"GET /images/laun...|             200|                  1713|\n",
      "|     uplherc.upl.com|01/Aug/1995:00:00...|\"GET /images/WORL...|             304|                     0|\n",
      "|slppp6.intermind.net|01/Aug/1995:00:00...|\"GET /history/sky...|             200|                  1687|\n",
      "|piweba4y.prodigy.com|01/Aug/1995:00:00...|\"GET /images/laun...|             200|                 11853|\n",
      "|slppp6.intermind.net|01/Aug/1995:00:00...|\"GET /history/sky...|             200|                  9202|\n",
      "|slppp6.intermind.net|01/Aug/1995:00:00...|\"GET /images/kscl...|             200|                  3635|\n",
      "|ix-esc-ca2-07.ix....|01/Aug/1995:00:00...|\"GET /history/apo...|             200|                  1173|\n",
      "|slppp6.intermind.net|01/Aug/1995:00:00...|\"GET /history/apo...|             200|                  3047|\n",
      "|     uplherc.upl.com|01/Aug/1995:00:00...|\"GET /images/NASA...|             304|                     0|\n",
      "|        133.43.96.45|01/Aug/1995:00:00...|\"GET /shuttle/mis...|             200|                 10566|\n",
      "|kgtyk4.kj.yamagat...|01/Aug/1995:00:00...|    \"GET / HTTP/1.0\"|             200|                  7280|\n",
      "|kgtyk4.kj.yamagat...|01/Aug/1995:00:00...|\"GET /images/kscl...|             200|                  5866|\n",
      "|     d0ucr6.fnal.gov|01/Aug/1995:00:00...|\"GET /history/apo...|             200|                  2743|\n",
      "|ix-esc-ca2-07.ix....|01/Aug/1995:00:00...|\"GET /shuttle/res...|             200|                  6849|\n",
      "|     d0ucr6.fnal.gov|01/Aug/1995:00:00...|\"GET /history/apo...|             200|                 14897|\n",
      "+--------------------+--------------------+--------------------+----------------+----------------------+\n",
      "only showing top 20 rows\n",
      "\n"
     ]
    }
   ],
   "source": [
    "df.show()"
   ]
  },
  {
   "cell_type": "markdown",
   "metadata": {},
   "source": [
    "## 1. Número de hosts únicos."
   ]
  },
  {
   "cell_type": "code",
   "execution_count": 7,
   "metadata": {},
   "outputs": [
    {
     "name": "stdout",
     "output_type": "stream",
     "text": [
      "+--------------------+\n",
      "|count(DISTINCT host)|\n",
      "+--------------------+\n",
      "|              137979|\n",
      "+--------------------+\n",
      "\n"
     ]
    }
   ],
   "source": [
    "df.select(f.countDistinct(\"host\")).show()"
   ]
  },
  {
   "cell_type": "markdown",
   "metadata": {},
   "source": [
    "## 2. O total de erros 404"
   ]
  },
  {
   "cell_type": "code",
   "execution_count": 8,
   "metadata": {},
   "outputs": [
    {
     "data": {
      "text/plain": [
       "20871"
      ]
     },
     "execution_count": 8,
     "metadata": {},
     "output_type": "execute_result"
    }
   ],
   "source": [
    "df.where(df['cod retorno http'] == \"404\").count()"
   ]
  },
  {
   "cell_type": "markdown",
   "metadata": {},
   "source": [
    "## 3. Os 5 URLs que mais causaram erro 404."
   ]
  },
  {
   "cell_type": "code",
   "execution_count": 9,
   "metadata": {},
   "outputs": [
    {
     "name": "stdout",
     "output_type": "stream",
     "text": [
      "+--------------------+----------------+-----+\n",
      "|                host|cod retorno http|count|\n",
      "+--------------------+----------------+-----+\n",
      "|hoohoo.ncsa.uiuc.edu|             404|  251|\n",
      "|piweba3y.prodigy.com|             404|  156|\n",
      "|jbiagioni.npt.nuw...|             404|  132|\n",
      "|piweba1y.prodigy.com|             404|  114|\n",
      "|www-d4.proxy.aol.com|             404|   91|\n",
      "+--------------------+----------------+-----+\n",
      "only showing top 5 rows\n",
      "\n"
     ]
    }
   ],
   "source": [
    "df.where(df['cod retorno http'] == \"404\") \\\n",
    "    .groupBy(\"host\", \"cod retorno http\") \\\n",
    "    .count() \\\n",
    "    .orderBy(\"count\", ascending=False) \\\n",
    "    .show(5)"
   ]
  },
  {
   "cell_type": "markdown",
   "metadata": {},
   "source": [
    "## 4. Quantidade de erros 404 por dia."
   ]
  },
  {
   "cell_type": "code",
   "execution_count": 10,
   "metadata": {},
   "outputs": [
    {
     "name": "stdout",
     "output_type": "stream",
     "text": [
      "+----------------+-----------+-----+\n",
      "|cod retorno http|        Dia|count|\n",
      "+----------------+-----------+-----+\n",
      "|             404|27/Aug/1995|  367|\n",
      "|             404|03/Jul/1995|  470|\n",
      "|             404|10/Aug/1995|  306|\n",
      "|             404|13/Jul/1995|  531|\n",
      "|             404|06/Aug/1995|  373|\n",
      "|             404|05/Aug/1995|  236|\n",
      "|             404|14/Jul/1995|  411|\n",
      "|             404|03/Aug/1995|  303|\n",
      "|             404|13/Aug/1995|  216|\n",
      "|             404|20/Aug/1995|  312|\n",
      "|             404|16/Jul/1995|  257|\n",
      "|             404|16/Aug/1995|  259|\n",
      "|             404|25/Aug/1995|  415|\n",
      "|             404|20/Jul/1995|  428|\n",
      "|             404|23/Jul/1995|  233|\n",
      "|             404|07/Aug/1995|  537|\n",
      "|             404|18/Aug/1995|  256|\n",
      "|             404|06/Jul/1995|  640|\n",
      "|             404|27/Jul/1995|  336|\n",
      "|             404|19/Jul/1995|  638|\n",
      "+----------------+-----------+-----+\n",
      "only showing top 20 rows\n",
      "\n"
     ]
    }
   ],
   "source": [
    "df.withColumn(\"Dia\", f.substring(\"Timestamp\", 1, 11)) \\\n",
    "    .where(df['cod retorno http'] == \"404\") \\\n",
    "    .groupBy(\"cod retorno http\", \"Dia\") \\\n",
    "    .count() \\\n",
    "    .show()"
   ]
  },
  {
   "cell_type": "markdown",
   "metadata": {},
   "source": [
    "## 5. O total de bytes retornados."
   ]
  },
  {
   "cell_type": "code",
   "execution_count": 11,
   "metadata": {},
   "outputs": [
    {
     "name": "stdout",
     "output_type": "stream",
     "text": [
      "+---------------------------+\n",
      "|sum(Total bytes retornados)|\n",
      "+---------------------------+\n",
      "|            6.5524319796E10|\n",
      "+---------------------------+\n",
      "\n"
     ]
    }
   ],
   "source": [
    "df.select(f.sum(\"Total bytes retornados\")).show()"
   ]
  }
 ],
 "metadata": {
  "kernelspec": {
   "display_name": "Python 3",
   "language": "python",
   "name": "python3"
  },
  "language_info": {
   "codemirror_mode": {
    "name": "ipython",
    "version": 3
   },
   "file_extension": ".py",
   "mimetype": "text/x-python",
   "name": "python",
   "nbconvert_exporter": "python",
   "pygments_lexer": "ipython3",
   "version": "3.7.3"
  }
 },
 "nbformat": 4,
 "nbformat_minor": 2
}
